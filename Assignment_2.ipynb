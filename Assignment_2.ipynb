{
  "nbformat": 4,
  "nbformat_minor": 0,
  "metadata": {
    "colab": {
      "provenance": [],
      "toc_visible": true
    },
    "kernelspec": {
      "name": "python3",
      "display_name": "Python 3"
    },
    "language_info": {
      "name": "python"
    }
  },
  "cells": [
    {
      "cell_type": "code",
      "execution_count": null,
      "metadata": {
        "colab": {
          "base_uri": "https://localhost:8080/"
        },
        "id": "OpGMwo_GcERq",
        "outputId": "5e576abb-eea8-40ca-f6c9-112529db886b"
      },
      "outputs": [
        {
          "output_type": "stream",
          "name": "stdout",
          "text": [
            "<class 'tuple'>\n",
            "\n",
            "region\n",
            " ['East', 'Central', 'Central', 'Central', 'West', 'East', 'Central', 'Central', 'West', 'East', 'Central', 'East', 'East', 'East']\n",
            "name Details\n",
            " ['Abhishek Mane', 'Krishna Mali', 'Omkar Narmitvar', 'Tejas Yande', 'Soham Hundekar', 'Abhishek Mane', 'Anuradha Kamble', 'Omkar Narmitvar', 'Tushar Sirsat', 'Abhishek Mane', 'Madhura Kadam', 'Vedant Mane', 'Prem Shinde', 'Abhishek Mane']\n",
            "items Details\n",
            " ('Pencil', 'Roller', 'Pencil', 'Pen', 'Pencil', ' Roller', 'Pencil', 'Pencil', 'Pencil', 'Pen', 'Pencil', 'Roller', 'Roller', 'Pen')\n",
            "units Details\n",
            " ['95', '50', '36', '27', '56', '60', '75', '90', '32', '60', '90', '29', '81', '35']\n",
            "unitcost Details\n",
            " ['1.99', '19.99', '4.99', '19.99', '2.99', '4.99', '1.99', '4.99', '1.99', '8.99', '4.99', '1.99', '19.99', '4.99']\n",
            "total Details\n",
            " ['189.05\\n', '999.5\\n', '179.64\\n', '539.73\\n', '167.44\\n', '299.4\\n', '149.25\\n', '449.1\\n', '63.68\\n', '539.4\\n', '449.1\\n', '57.71\\n', '1619.19\\n', '174.65\\n']"
          ]
        }
      ],
      "source": [
        "region=[]\n",
        "name_details=[]\n",
        "items_details=[]\n",
        "units_details=[]\n",
        "unitcost_details=[]\n",
        "total=[]\n",
        "\n",
        "fp1=open(\"/content/Book2.csv\",\"r\")\n",
        "data=fp1.readline()\n",
        "\n",
        "while(True):\n",
        "\n",
        "  data=fp1.readline()\n",
        "  if not data:\n",
        "    break;\n",
        "  #print (data)\n",
        "  #data=data.replace(\"\\n\",\"\")\n",
        "  temp=data.split(\",\")\n",
        "  region.append(temp[0])\n",
        "  name_details.append(temp[1])\n",
        "  items_details.append(temp[2])\n",
        "  units_details.append(temp[3])\n",
        "  unitcost_details.append(temp[4])\n",
        "  total.append(temp[5])\n",
        "\n",
        "fp1.close()\n",
        "\n",
        "items_details=tuple(items_details)\n",
        "print(type(items_details))\n",
        "\n",
        "print (\"\\nregion\\n\",region,end=\"\")\n",
        "print(\"\\nname Details\\n\",name_details,end=\"\")\n",
        "print(\"\\nitems Details\\n\",items_details,end=\"\")\n",
        "print(\"\\nunits Details\\n\",units_details,end=\"\")\n",
        "print(\"\\nunitcost Details\\n\",unitcost_details,end=\"\")\n",
        "print(\"\\ntotal Details\\n\",total,end=\"\")\n",
        "\n",
        ""
      ]
    },
    {
      "cell_type": "code",
      "source": [
        "#1 most popular region\n",
        "frequency={}\n",
        "for item in region:\n",
        "  if item in frequency:\n",
        "    frequency[item] += 1\n",
        "  else:\n",
        "    frequency[item]=1\n",
        "\n",
        "print(frequency)\n",
        "marklist=sorted(frequency.items(),key=lambda x:x[1],reverse=True)\n",
        "sortdict=dict(marklist)\n",
        "print(sortdict)\n",
        "print(\"The most popular Region\",list(sortdict.keys())[0],\"i.e\",list(sortdict.values())[0],\"times in a list\")"
      ],
      "metadata": {
        "colab": {
          "base_uri": "https://localhost:8080/"
        },
        "id": "Rz-Ufqc67V4l",
        "outputId": "831dc220-194d-49c0-a17a-ba215a6f8ab5"
      },
      "execution_count": null,
      "outputs": [
        {
          "output_type": "stream",
          "name": "stdout",
          "text": [
            "{'East': 6, 'Central': 6, 'West': 2}\n",
            "{'East': 6, 'Central': 6, 'West': 2}\n",
            "The most popular Region East i.e 6 times in a list\n"
          ]
        }
      ]
    },
    {
      "cell_type": "code",
      "source": [
        "#2 most popular customer buys\n",
        "frequency={}\n",
        "for item in name_details:\n",
        "  if item in frequency:\n",
        "    frequency[item] += 1\n",
        "  else:\n",
        "    frequency[item]=1\n",
        "\n",
        "print(frequency)\n",
        "marklist=sorted(frequency.items(),key=lambda x:x[1],reverse=True)\n",
        "sortdict=dict(marklist)\n",
        "print(sortdict)\n",
        "print(\"The most popular person\",list(sortdict.keys())[0],\"i.e\",list(sortdict.values())[0],\"times in a list\")"
      ],
      "metadata": {
        "colab": {
          "base_uri": "https://localhost:8080/"
        },
        "id": "-t0f-Bn4ARFK",
        "outputId": "0e65e2b6-527d-4691-f92f-5c60e154c791"
      },
      "execution_count": null,
      "outputs": [
        {
          "output_type": "stream",
          "name": "stdout",
          "text": [
            "{'Abhishek Mane': 4, 'Krishna Mali': 1, 'Omkar Narmitvar': 2, 'Tejas Yande': 1, 'Soham Hundekar': 1, 'Anuradha Kamble': 1, 'Tushar Sirsat': 1, 'Madhura Kadam': 1, 'Vedant Mane': 1, 'Prem Shinde': 1}\n",
            "{'Abhishek Mane': 4, 'Omkar Narmitvar': 2, 'Krishna Mali': 1, 'Tejas Yande': 1, 'Soham Hundekar': 1, 'Anuradha Kamble': 1, 'Tushar Sirsat': 1, 'Madhura Kadam': 1, 'Vedant Mane': 1, 'Prem Shinde': 1}\n",
            "The most popular person Abhishek Mane i.e 4 times in a list\n"
          ]
        }
      ]
    },
    {
      "cell_type": "code",
      "source": [
        "#3 most popular items sold\n",
        "frequency={}\n",
        "for item in items_details:\n",
        "  if item in frequency:\n",
        "    frequency[item] += 1\n",
        "  else:\n",
        "    frequency[item]=1\n",
        "\n",
        "print(frequency)\n",
        "marklist=sorted(frequency.items(),key=lambda x:x[1],reverse=True)\n",
        "sortdict=dict(marklist)\n",
        "print(sortdict)\n",
        "print(\"The most popular items\",list(sortdict.keys())[0],\"i.e\",list(sortdict.values())[0],\"times in a list\")"
      ],
      "metadata": {
        "colab": {
          "base_uri": "https://localhost:8080/"
        },
        "id": "dzgVK8ZSA6x8",
        "outputId": "1cb9a953-10aa-4a86-bf63-e36fff1281f1"
      },
      "execution_count": null,
      "outputs": [
        {
          "output_type": "stream",
          "name": "stdout",
          "text": [
            "{'Pencil': 7, 'Roller': 3, 'Pen': 3, ' Roller': 1}\n",
            "{'Pencil': 7, 'Roller': 3, 'Pen': 3, ' Roller': 1}\n",
            "The most popular items Pencil i.e 7 times in a list\n"
          ]
        }
      ]
    },
    {
      "cell_type": "code",
      "source": [
        "#4 the most popular unitcost used\n",
        "frequency={}\n",
        "for item in unitcost_details:\n",
        "  if item in frequency:\n",
        "    frequency[item] += 1\n",
        "  else:\n",
        "    frequency[item]=1\n",
        "\n",
        "print(frequency)\n",
        "marklist=sorted(frequency.items(),key=lambda x:x[1],reverse=True)\n",
        "sortdict=dict(marklist)\n",
        "print(sortdict)\n",
        "print(\"The most popular unitcost\",list(sortdict.keys())[0],\"i.e\",list(sortdict.values())[0],\"times in a list\")"
      ],
      "metadata": {
        "colab": {
          "base_uri": "https://localhost:8080/"
        },
        "id": "9d8U563vBY2v",
        "outputId": "380fc66d-5961-43d8-9c30-f54fb40ab310"
      },
      "execution_count": null,
      "outputs": [
        {
          "output_type": "stream",
          "name": "stdout",
          "text": [
            "{'1.99': 4, '19.99': 3, '4.99': 5, '2.99': 1, '8.99': 1}\n",
            "{'4.99': 5, '1.99': 4, '19.99': 3, '2.99': 1, '8.99': 1}\n",
            "The most popular unitcost 4.99 i.e 5 times in a list\n"
          ]
        }
      ]
    },
    {
      "cell_type": "code",
      "source": [
        "#6 Least popular region\n",
        "frequency={}\n",
        "for item in region:\n",
        "  if item in frequency:\n",
        "    frequency[item] += 1\n",
        "  else:\n",
        "    frequency[item]=1\n",
        "print(frequency)\n",
        "marklist=sorted(frequency.items(),key=lambda x:x[1])\n",
        "sortdict=dict(marklist)\n",
        "print(sortdict)\n",
        "print(\"The least popular region\",list(sortdict.keys())[0])"
      ],
      "metadata": {
        "colab": {
          "base_uri": "https://localhost:8080/"
        },
        "id": "R7nUlFU5CFby",
        "outputId": "6bd74d61-b214-45cd-b081-77b08c897724"
      },
      "execution_count": null,
      "outputs": [
        {
          "output_type": "stream",
          "name": "stdout",
          "text": [
            "{'East': 6, 'Central': 6, 'West': 2}\n",
            "{'West': 2, 'East': 6, 'Central': 6}\n",
            "The least popular region West\n"
          ]
        }
      ]
    },
    {
      "cell_type": "code",
      "source": [
        "#7 Least popular sold items\n",
        "frequency={}\n",
        "for item in items_details:\n",
        "  if item in frequency:\n",
        "    frequency[item] += 1\n",
        "  else:\n",
        "    frequency[item]=1\n",
        "print(frequency)\n",
        "marklist=sorted(frequency.items(),key=lambda x:x[1])\n",
        "sortdict=dict(marklist)\n",
        "print(sortdict)\n",
        "print(\"The least popular items\",list(sortdict.keys())[0])"
      ],
      "metadata": {
        "colab": {
          "base_uri": "https://localhost:8080/"
        },
        "id": "XMTiBTXHKNNI",
        "outputId": "32465ba1-aae8-4a73-9c71-74e13bdd9eae"
      },
      "execution_count": null,
      "outputs": [
        {
          "output_type": "stream",
          "name": "stdout",
          "text": [
            "{'Pencil': 7, 'Roller': 3, 'Pen': 3, ' Roller': 1}\n",
            "{' Roller': 1, 'Roller': 3, 'Pen': 3, 'Pencil': 7}\n",
            "The least popular items  Roller\n"
          ]
        }
      ]
    },
    {
      "cell_type": "code",
      "source": [
        "#8 Least popular units\n",
        "frequency={}\n",
        "for item in units_details:\n",
        "  if item in frequency:\n",
        "    frequency[item] += 1\n",
        "  else:\n",
        "    frequency[item]=1\n",
        "print(frequency)\n",
        "marklist=sorted(frequency.items(),key=lambda x:x[1])\n",
        "sortdict=dict(marklist)\n",
        "print(sortdict)\n",
        "print(\"The least popular units\",list(sortdict.keys())[0])"
      ],
      "metadata": {
        "colab": {
          "base_uri": "https://localhost:8080/"
        },
        "id": "o7fBWfXNKnOV",
        "outputId": "d94ac4c3-c177-499a-d5ca-0c353cc4a3c4"
      },
      "execution_count": null,
      "outputs": [
        {
          "output_type": "stream",
          "name": "stdout",
          "text": [
            "{'95': 1, '50': 1, '36': 1, '27': 1, '56': 1, '60': 2, '75': 1, '90': 2, '32': 1, '29': 1, '81': 1, '35': 1}\n",
            "{'95': 1, '50': 1, '36': 1, '27': 1, '56': 1, '75': 1, '32': 1, '29': 1, '81': 1, '35': 1, '60': 2, '90': 2}\n",
            "The least popular units 95\n"
          ]
        }
      ]
    },
    {
      "cell_type": "code",
      "source": [
        "#9 Least unitcost comes in this sheet\n",
        "frequency={}\n",
        "for item in unitcost_details:\n",
        "  if item in frequency:\n",
        "    frequency[item] += 1\n",
        "  else:\n",
        "    frequency[item]=1\n",
        "print(frequency)\n",
        "marklist=sorted(frequency.items(),key=lambda x:x[1])\n",
        "sortdict=dict(marklist)\n",
        "print(sortdict)\n",
        "print(\"The least popular unitcost\",list(sortdict.keys())[0])"
      ],
      "metadata": {
        "colab": {
          "base_uri": "https://localhost:8080/"
        },
        "id": "6KQLS9glKuO7",
        "outputId": "15a10fd6-109b-4968-94ea-4b2bfdd7473f"
      },
      "execution_count": null,
      "outputs": [
        {
          "output_type": "stream",
          "name": "stdout",
          "text": [
            "{'1.99': 4, '19.99': 3, '4.99': 5, '2.99': 1, '8.99': 1}\n",
            "{'2.99': 1, '8.99': 1, '19.99': 3, '1.99': 4, '4.99': 5}\n",
            "The least popular unitcost 2.99\n"
          ]
        }
      ]
    },
    {
      "cell_type": "code",
      "source": [
        "#10 Most used units\n",
        "frequency={}\n",
        "for item in units_details:\n",
        "  if item in frequency:\n",
        "    frequency[item] += 1\n",
        "else:\n",
        "    frequency[item]=1\n",
        "print(frequency)\n",
        "marklist=sorted(frequency.items(),key=lambda x:x[1],reverse=True)\n",
        "sortdict=dict(marklist)\n",
        "print(sortdict)\n",
        "print(\"The most popular units for sales\",list(sortdict.keys())[0],\"puschased\",list(sortdict.values())[0],\n",
        "\"products\")\n"
      ],
      "metadata": {
        "colab": {
          "base_uri": "https://localhost:8080/"
        },
        "id": "xXgD91x-LCCX",
        "outputId": "12b5c104-7926-4a34-f715-d4d3a7ca033a"
      },
      "execution_count": null,
      "outputs": [
        {
          "output_type": "stream",
          "name": "stdout",
          "text": [
            "{'35': 1}\n",
            "{'35': 1}\n",
            "The most popular units for sales 35 puschased 1 products\n"
          ]
        }
      ]
    }
  ]
}