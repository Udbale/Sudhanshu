{
  "nbformat": 4,
  "nbformat_minor": 0,
  "metadata": {
    "colab": {
      "provenance": [],
      "authorship_tag": "ABX9TyPKvthT1rSgwlCd7sj6LTWe",
      "include_colab_link": true
    },
    "kernelspec": {
      "name": "python3",
      "display_name": "Python 3"
    },
    "language_info": {
      "name": "python"
    }
  },
  "cells": [
    {
      "cell_type": "markdown",
      "metadata": {
        "id": "view-in-github",
        "colab_type": "text"
      },
      "source": [
        "<a href=\"https://colab.research.google.com/github/Udbale/Sudhanshu/blob/main/Two_datasets_1.ipynb\" target=\"_parent\"><img src=\"https://colab.research.google.com/assets/colab-badge.svg\" alt=\"Open In Colab\"/></a>"
      ]
    },
    {
      "cell_type": "code",
      "execution_count": null,
      "metadata": {
        "id": "w4qIY50f3CsY",
        "colab": {
          "base_uri": "https://localhost:8080/"
        },
        "outputId": "4818464a-c0ec-4b71-abe3-80d2632bf10e"
      },
      "outputs": [
        {
          "output_type": "stream",
          "name": "stdout",
          "text": [
            "\n",
            "\n",
            "File1 Contents: [['1', 'A', ' Tushar', '9'], ['2', 'B', ' Yash', '8'], ['3', 'C', ' Onkar', '7'], ['4', 'D', ' Sumati', '9']]\n",
            "\n",
            "\n",
            "File2 Contents: [['1', 'A', ' Tushar', '91'], ['2', 'B', ' Yash', '84'], ['3', 'C', ' Onkar', '77'], ['4', 'D', ' Sumati', '99']]\n",
            "[['1', 'A', ' Tushar', '9', '1', 'A', ' Tushar', '91'], ['2', 'B', ' Yash', '8', '2', 'B', ' Yash', '84'], ['3', 'C', ' Onkar', '7', '3', 'C', ' Onkar', '77'], ['4', 'D', ' Sumati', '9', '4', 'D', ' Sumati', '99']]\n",
            "sorted Data: [['1', 'A', ' Tushar', '9', '1', 'A', ' Tushar', '91'], ['4', 'D', ' Sumati', '9', '4', 'D', ' Sumati', '99'], ['2', 'B', ' Yash', '8', '2', 'B', ' Yash', '84'], ['3', 'C', ' Onkar', '7', '3', 'C', ' Onkar', '77']]\n",
            "\n",
            "\n",
            "student 1 A\n",
            " student 2 D\n",
            " student 3 B\n",
            "student 4 C\n",
            "Maximum 9\n",
            "Minimum: 9\n",
            "Total is :  9\n",
            "average is: 9.0\n",
            "Maximum 9\n",
            "Minimum: 8\n",
            "Total is :  17\n",
            "average is: 8.5\n",
            "Maximum 9\n",
            "Minimum: 7\n",
            "Total is :  24\n",
            "average is: 8.0\n",
            "Maximum 9\n",
            "Minimum: 7\n",
            "Total is :  33\n",
            "average is: 8.25\n"
          ]
        }
      ],
      "source": [
        "import csv\n",
        "def top_4_student(d3):\n",
        "  d3.sort(key = lambda x: int(x[3]),reverse=True)\n",
        "  print(\"sorted Data:\",d3)\n",
        "\n",
        "  print(\"\\n\\nstudent 1\",d3[0][1])\n",
        "  print(\" student 2\",d3[1][1])\n",
        "  print(\" student 3\",d3[2][1])\n",
        "  print(\"student 4\",d3[3][1])\n",
        "\n",
        "\n",
        "f1 = open(\"/content/CGPA.csv\",\"r\")\n",
        "f2 = open(\"/content/Percentage  1.csv\",\"r\")\n",
        "f3 = open(\"result.csv\",\"w\")\n",
        "\n",
        "d1=list(csv.reader(f1,delimiter=','))\n",
        "d2=list(csv.reader(f2,delimiter=','))\n",
        "\n",
        "print(\"\\n\\nFile1 Contents:\",d1)\n",
        "print(\"\\n\\nFile2 Contents:\",d2)\n",
        "d3 = []\n",
        "for i in range(len(d1)):\n",
        "  d3.append(d1[i] + d2[i])\n",
        "\n",
        "print(d3)\n",
        "cw = csv.writer(f3)\n",
        "cw.writerows(d3)\n",
        "\n",
        "top_4_student(d3)\n",
        "\n",
        "f1.close()\n",
        "f2.close()\n",
        "f3.close()\n",
        "\n",
        "res=[]\n",
        "with open('/content/result.csv',mode=\"r\")as file:\n",
        "  csvFile = csv.reader(file)\n",
        "\n",
        "  for lines in csvFile:\n",
        "    res.append(int(lines[3]))\n",
        "    print(\"Maximum\",max(res))\n",
        "    print(\"Minimum:\",min(res))\n",
        "    print(\"Total is : \",sum(res))\n",
        "    print(\"average is:\",sum(res)/len(res))"
      ]
    }
  ]
}